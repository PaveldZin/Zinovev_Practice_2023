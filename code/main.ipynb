{
 "cells": [
  {
   "cell_type": "code",
   "execution_count": 1,
   "metadata": {},
   "outputs": [],
   "source": [
    "%load_ext autoreload\n",
    "%autoreload 2"
   ]
  },
  {
   "cell_type": "code",
   "execution_count": 10,
   "metadata": {},
   "outputs": [],
   "source": [
    "import preprocess\n",
    "import embedding\n",
    "import data\n",
    "import clustering"
   ]
  },
  {
   "cell_type": "code",
   "execution_count": 32,
   "metadata": {},
   "outputs": [],
   "source": [
    "categories = ['cs.IR', 'cs.DB']\n",
    "papers = preprocess.load_json(\n",
    "    'arxiv-metadata-oai-snapshot.json', categories=categories)\n",
    "terms, corpus = preprocess.extract_terms_and_corpus(papers, threshold=5)\n",
    "term_embeddings = embedding.make_embedding(corpus, terms)"
   ]
  },
  {
   "cell_type": "code",
   "execution_count": 33,
   "metadata": {},
   "outputs": [
    {
     "name": "stdout",
     "output_type": "stream",
     "text": [
      "574\n",
      "['concept', 'cost', 'companies', 'demand', 'images', 'architecture', 'future', 'large volumes', 'xml', 'kgs', 'distribution', 'important applications', 'index structure', 'co', 'thousands', 'number', 'existing solutions', 'success', 'patterns', 'large number', 'sets', 'utility', 'dimensions', 'communities', 'assumptions', 'views', 'potential', 'question', 'field', 'millions', 'real time', 'correlations', 'issue', 'language', 'privacy', 'facts', 'data quality', 'predicates', 'world', 'kgc', 'bias', 'seconds', 'date', 'q', 'top-$k$', 'robustness', 'link prediction', 'questions', 'kbs', 'insights', 'lack', 'context', 'reference', 'noise', 'astroinformatics', 'integration', 'article', 'theme communities', 'subgraphs', 'value', 'mechanisms', 'multiple sources', 'operation', 'matrix', 'record linkage', 'issues', 'knowledge discovery', 'internet', 'applications', 'vo', 'lists', 'twitter', 'evolution', 'high precision', 'past decade', 'projects', 'practice', 'corpus', 'large databases', 'index', 'baselines', 'tree', 'tools', 'example', 'examples', 'observation', 'application', 'dbscan', 'goal', 'science', 'types', 'applicability', 'graph', 'pair', 'classification', 'similarities', 'triples', 'advantages', 'literature', 'tao', 'errors', 'implementation', 'cloud', 'work', 'momentum leaders', 'situation', 'relevance', 'query results', 'end', 'case study', 'representation', 'extensive experiments', 'approaches', 'items', 'dimensionality reduction', 'operations', 'flexibility', 'information extraction', 'aspects', 'domain', 'non', 'operators', 'edges', 'technique', 'comparison', 'management', 'learning', 'query execution', 'web services', 'trade offs', 'proposed framework', 'union', 'problem', 'challenges', 'techniques', 'recall', 'need', 'time', 'interest', 'sum', 'processing', 'effort', 'probability', 'size', 'wikidata', 'articles', 'account', 'researchers', 'way', 'gap', 'individuals', 'directions', 'extraction', 'mechanism', 'small', 'reproducibility', 'benchmark datasets', 'machine learning', 'degree', 'kg', 'duplicates', 'community', 'indexing', 'factors', 'code', 'metadata', 'documents', 'object', 'indices', 'support', 'meaning', 'k2 triples', 'case', 'edge analytics', 'reason', 'area', 'developers', 'google', 'users', 'stream', 'novel method', 'components', 'event', 'low cost', 'language models', 'memory', 'table', 'beginning', 'overview', 'similarity measure', 'lider', 'va', 'clusters', 'ii', 'needs', 'scientists', 'queries', 'mapping', 'structure', 'updates', 'family', 'use case', 'proposed system', 'model', 'services', 'entity', 'similarity', 'knowledge bases', 'computation', 'keys', 'missing values', 'creation', 'importance', 'implementations', 'information', 'understanding', 'objects', 'data sets', 'organizations', 'elements', 'existing methods', 'relations', 'recommendations', 'approximation', 'type', 'collection', 'years', 'methodology', 'benchmarks', 'hand', 'approach', 'document size', 'ranking', 'satisfaction', 'deep learning', 'phrases', 'topics', 'approximate nearest neighbor search', 'associative arrays', 'text classification', 'resemblance', 'trends', 'development', 'web usage mining', 'tabular data', 'purpose', 'products', 'download cost', 'models', 'dimension', 'contexts', 'improvement', 'nsg', 'search', 'interoperability', 'task', 'natural language processing', 'different sources', 'experiments', 'method', 'set', 'tf idf', 'fields', 'special case', 'space', 'database', 'retrieval', 'query', 'contribution', 'effectiveness', 'nature', 'ways', 'students', 'real world datasets', 'existing approaches', 'properties', 'search results', 'semantic web', 'diversity', 'exploration', 'aspect', 'software', 'use', 'videos', 'day', 'knowledge graphs', 'high accuracy', 'combination', 'groups', 'findings', 'people', 'plms', 'data structures', 'database systems', 'form', 'semantics', 'given query', 'mining', 'knowledge', 'semantic web technologies', 'quest', 'web', 'predicate', 'representations', 'xml document', 'paper', 'texts', 'areas', 'features', 'relational databases', 'output', 'values', 'technologies', 'order', 'edge', 'large scale knowledge bases', 'real world applications', 'crunchbase', 'posting lists', 'terabytes', 'attention', 'instances', 'neural networks', 'names', 'ram', 'nodes', 'time series', 'algorithm', 'video', 'instance', 'new technique', 'learned indexes', 'ratio', 'solution', 'main memory', 'billions', 'majority', 'summary', 'results', 'study', 'interactions', 'solutions', 'words', 'devices', 'collections', 'subset', 'source', 'relation', 'characteristics', 'recent years', 'domains', 'access', 'dbpedia', 'future research', 'block', 'hundreds', 'efforts', 'query time', 'efficacy', 'analysis', 'data mining', 'ads', 'progress', 'embeddings', 'data integration', 'step', 'visualization', 'e', 'means', 'preferences', 'query processing', 'respect', 'terms', 'construction', 'limitations', 'search engine', 'lsh', 'result', 'variety', 'speed', 'frequencies', 'vectors', 'world wide web', 'accuracy', 'search space', 'performance', 'node', 'abundance', 'times', 'suggestions', 'feature', 'tool', 'resources', 'crowd', 'ontologies', 'contrast', 'datasets', 'data structure', 'input', 'different types', 'scale', 'specialists', 'precision', 'contributions', 'evidence', 'cases', 'outliers', 'range', 'resolution', 'search engines', 'increase', 'advantage', 'dictionary', 'formats', 'classes', 'influence', 'social networks', 'discovery', 'large datasets', 'hashing', 'art', 'differences', 'web pages', 'state', 'events', 'theory', 'strengths', 'xml matchers', 'settings', 'variants', 'pubmed labs', 'client', 'data management', 'previous methods', 'pairs', 'modeling', 'design', 'user', 'labels', 'complexity', 'scalability', 'points', 'evaluation', 'concepts', 'property', 'survey', 'real datasets', 'ones', 'changes', 'sample', 'content', 'generation', 'open data', 'fact', 'location', 'open data portals', 'data sources', 'completeness', 'columns', 'indexes', 'experts', 'proposed method', 'news', 'analytics', 'new algorithm', 'summaries', 'factor', 'keywords', 'information retrieval', 'connection', 'dataset', '$ n$', 'parameters', 'blocks', 'relationship', 'databases', 'sources', 'methods', 'attributes', 'frequent itemsets', 'colors', 'distance', 'experimental results', 'systems', 'recommender systems', 'information systems', 'query languages', 'p tucker', 'extent', 'wide range', 'function', 'framework', 'data', 'k', 'records', 'analysts', 'sequence', 'statistics', 'contents', 'proposed model', 'benefits', 'basis', 'hierarchy', 'paradigm', 'challenge', 'new principle', 'previous work', 'measure', 'availability', 'efficient access', 'target domain', 'sparql', 'rules', 'system', 'efficiency', 'dimensionality', 'experience', 'big data', 'proposed approach', 'schema', 'forms', 'high performance', 'text', 'gpus', 'clustering', 'magnitude', 'impact', 'novel approach', 'addition', 'curation', 'locality sensitive hashing', 'steps', 'new approach', 'anns', 'storage', 'ontology', 'problems', 'training', 'tasks', 'biases', 'pir', 'bloom filters', 'edge devices', 'research', 'similarity search', 'topic', 'level', 'extension', 'document', 'graphs', 'astronomy', 'ability', 'process', 'new data', 'proposal', 'selection', 'orders', 'tables', 'answers', 'entities', 'knowledge graph', '$ k$ messages', 'pre trained language models', 'input document', 'algorithms', 'quality', 'category', 'query performance', 'probability distribution', 'integers', 'relationships', 'pir scheme', 'sites', 'presence']\n"
     ]
    }
   ],
   "source": [
    "print(len(terms))\n",
    "print(terms)"
   ]
  },
  {
   "cell_type": "code",
   "execution_count": 34,
   "metadata": {},
   "outputs": [
    {
     "name": "stdout",
     "output_type": "stream",
     "text": [
      "['va', 'ram', 'source', 'ratio', 'structure', 'technique', 'performance', 'state']\n",
      "['edge', 'graph', 'knowledge', 'approach', 'text', 'art', 'dataset', 'algorithm']\n",
      "['pir', 'pir scheme', 'crunchbase', 'nsg', 'k', 'database', 'search', 'model']\n",
      "['ads', 'query', 'use', 'queries', 'kg', 'system', 'index', 'work']\n",
      "['vo', 'e', 'co', 'data', 'q', 'user', 'time', 'paper']\n",
      "['tao', 'document', 'form', 'process', 'set', 'documents', 'information', 'stream']\n"
     ]
    }
   ],
   "source": [
    "main_topic = data.Topic(terms, corpus, term_embeddings)\n",
    "\n",
    "parent, child_topics = clustering.adaptive_clustering(\n",
    "    main_topic, k=5, delta=0.25)\n",
    "print(parent.top_terms())\n",
    "for topic in child_topics:\n",
    "    print(topic.top_terms())\n"
   ]
  }
 ],
 "metadata": {
  "kernelspec": {
   "display_name": "venv",
   "language": "python",
   "name": "python3"
  },
  "language_info": {
   "codemirror_mode": {
    "name": "ipython",
    "version": 3
   },
   "file_extension": ".py",
   "mimetype": "text/x-python",
   "name": "python",
   "nbconvert_exporter": "python",
   "pygments_lexer": "ipython3",
   "version": "3.11.4"
  },
  "orig_nbformat": 4
 },
 "nbformat": 4,
 "nbformat_minor": 2
}
